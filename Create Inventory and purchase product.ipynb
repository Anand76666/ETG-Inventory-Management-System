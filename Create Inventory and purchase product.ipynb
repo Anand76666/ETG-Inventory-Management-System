{
 "cells": [
  {
   "cell_type": "code",
   "execution_count": 2,
   "id": "1cae051d",
   "metadata": {},
   "outputs": [],
   "source": [
    "import json\n",
    "\n",
    "\n",
    "\n",
    "record={1001:{'name':\"Milk\",'price':50,'quantity':50,'mfd':'8/20','exd':'8/22'},\n",
    "        1002:{'name':\"Cake\",'price':200,'quantity':50,'mfd':'9/20','exd':'9/25'},\n",
    "        1003:{'name':\"Dairy Milk\",'price':10,'quantity':50,'mfd':'9/20','exd':'10/20'},\n",
    "        1004:{'name':\"Thums Up\",'price':45,'quantity':80,'mfd':'10/20','exd':'10/20'},\n",
    "        1005:{'name':\"Lays\",'price':10,'quantity':40,'mfd':'8/20','exd':'10/20'},\n",
    "        1006:{'name':\"Kurkure\",'price':10,'quantity':40,'mfd':'7/20','exd':'9/20'},\n",
    "        1007:{'name':\"Pepsi\",'price':45,'quantity':50,'mfd':'8/20','exd':'9/20'},\n",
    "        1008:{'name':\"Fanta\",'price':45,'quantity':50,'mfd':'8/21','exd':'9/20'},\n",
    "        1009:{'name':\"Maaza\",'price':45,'quantity':40,'mfd':'8/21','exd':'9/20'},\n",
    "        1010:{'name':\"5star\",'price':45,'quantity':50,'mfd':'8/20','exd':'8/20'},\n",
    "        1011:{'name':\"Kitkat\",'price':20,'quantity':50,'mfd':'8/15','exd':'9/16'},\n",
    "        1012:{'name':\"Pen\",'price':10,'quantity':200,'mfd':'8/20','exd':'12/21'},\n",
    "        1013:{'name':\"Pencil\",'price':10,'quantity':200,'mfd':'8/20','exd':'8/22'},\n",
    "        1014:{'name':\"Candy\",'price':2,'quantity':400,'mfd':'5/20','exd':'5/20'},\n",
    "        1015:{'name':\"Eraser\",'price':5,'quantity':200,'mfd':'4/20','exd':'5/24'},\n",
    "        1016:{'name':\"Sharpner\",'price':5,'quantity':200,'mfd':'5/20','exd':'10/24'},\n",
    "        1017:{'name':\"Watch\",'price':500,'quantity':20,'mfd':'7/20','exd':'7/22'},\n",
    "        1018:{'name':\"Phone\",'price':15000,'quantity':10,'mfd':'9/2','exd':'9/2'},\n",
    "        1019:{'name':\"Earphone\",'price':500,'quantity':40,'mfd':'8/5','exd':'12/4'},\n",
    "        1020:{'name':\"Bottle\",'price':80,'quantity':100,'mfd':'1/6','exd':'5/6'},\n",
    "        1021:{'name':\"Charger\",'price':300,'quantity':25,'mfd':'4/20','exd':'10/21'},\n",
    "        1022:{'name':\"Hide & Seek\",'price':40,'quantity':30,'mfd':'8/10','exd':'10/10'},\n",
    "        1023:{'name':\"Oreo\",'price':50,'quantity':30,'mfd':'4/20','exd':'5/20'},\n",
    "        1024:{'name':\"Keyboard\",'price':1800,'quantity':20,'mfd':'1/20','exd':'8/22'},\n",
    "        1025:{'name':\"Mouse\",'price':2500,'quantity':10,'mfd':'1/20','exd':'8/21'},\n",
    "        1026:{'name':\"Notebook\",'price':50,'quantity':40,'mfd':'8/26','exd':'12/25'},\n",
    "        1027:{'name':\"Parle G\",'price':10,'quantity':100,'mfd':'8/7','exd':'9/6'},\n",
    "        1028:{'name':\"Colgate\",'price':20,'quantity':50,'mfd':'2/20','exd':'3/21'},\n",
    "        1029:{'name':\"Coconut Oil\",'price':10,'quantity':40,'mfd':'11/20','exd':'12/21'},\n",
    "        1030:{'name':\"Broom\",'price':80,'quantity':40,'mfd':'2/16','exd':'4/16'},\n",
    "        \n",
    "         }"
   ]
  },
  {
   "cell_type": "code",
   "execution_count": 3,
   "id": "ff91728d",
   "metadata": {},
   "outputs": [],
   "source": [
    "js=json.dumps(record)\n",
    "file = open(\"record.json\",'w')\n",
    "file.write(js)\n",
    "file.close()"
   ]
  },
  {
   "cell_type": "code",
   "execution_count": 4,
   "id": "8db6a504",
   "metadata": {},
   "outputs": [],
   "source": [
    "import json\n",
    "\n",
    "fd = open(\"record.json\",'r')\n",
    "r = fd.read()\n",
    "fd.close()\n",
    "\n",
    "record = json.loads(r)"
   ]
  },
  {
   "cell_type": "code",
   "execution_count": 6,
   "id": "1acd8fb3",
   "metadata": {},
   "outputs": [
    {
     "name": "stdout",
     "output_type": "stream",
     "text": [
      "Enter the Product ID: 1014\n",
      "{'name': 'Candy', 'price': 2, 'quantity': 400, 'mfd': '5/20', 'exd': '5/20'}\n",
      "Enter the quantity: 3\n",
      "***** Transaction Bill *****\n",
      "Product:  Candy\n",
      "Price:  2\n",
      "Billing Amount:  6\n",
      "****************\n",
      "Enter the transaction number:4\n",
      "**************************\n",
      "After Updation: \n",
      "**************************\n",
      "{'name': 'Candy', 'price': 2, 'quantity': 397, 'mfd': '5/20', 'exd': '5/20'}\n",
      "Do you want to continue the purchase ? \n",
      "Type Y/y for YES and N/n for NO \n",
      "Enter Y/y or N/n: n\n"
     ]
    }
   ],
   "source": [
    "choice=True\n",
    "\n",
    "while(choice):\n",
    "    product_id=str(int(input(\"Enter the Product ID: \")))\n",
    "    if(product_id in record.keys()):\n",
    "        print(record[product_id])\n",
    "    quantity=int(input('Enter the quantity: '))\n",
    "    \n",
    "\n",
    "    if(product_id in record.keys()):\n",
    "        if quantity > record[product_id]['quantity']:\n",
    "            print(\"The Entered Quantity exceeds the limit\")\n",
    "        else:\n",
    "            print(\"***** Transaction Bill *****\")\n",
    "            print(\"Product: \", record[product_id]['name'])\n",
    "            print(\"Price: \", record[product_id]['price'])\n",
    "            print(\"Billing Amount: \", record[product_id]['price'] * quantity)\n",
    "            print(\"****************\")\n",
    "            #saving info to the sales.json\n",
    "            num = int(input(\"Enter the transaction number:\"))\n",
    "            sales = {num : {'product' : product_id, 'quantity' : quantity, 'amount': record[product_id]['price'] * quantity}}\n",
    "            sales = json.dumps(sales)\n",
    "\n",
    "            fd=open(\"sales.json\",'a')\n",
    "            fd.write(sales)\n",
    "            fd.close()\n",
    "            #Reducing the quantity\n",
    "            record[product_id]['quantity'] -= quantity\n",
    "            print(\"**************************\")\n",
    "            print(\"After Updation: \")\n",
    "            print(\"**************************\")\n",
    "            print(record[product_id])\n",
    "        \n",
    "            \n",
    "\n",
    "                    \n",
    "        \n",
    "        \n",
    "        \n",
    "    else:\n",
    "        print(\"Invalid product id\")\n",
    "        \n",
    "    print(\"Do you want to continue the purchase ? \")\n",
    "    print(\"Type Y/y for YES and N/n for NO \")\n",
    "    ch=input(\"Enter Y/y or N/n: \")\n",
    "    if(ch==\"Y\" or ch==\"y\"):\n",
    "        choice=True\n",
    "    elif(ch==\"N\" or ch==\"n\"):\n",
    "        choice=False"
   ]
  },
  {
   "cell_type": "code",
   "execution_count": 7,
   "id": "b3f0890a",
   "metadata": {},
   "outputs": [],
   "source": [
    "js = json.dumps(record)\n",
    "\n",
    "fd = open(\"record.json\",'w')\n",
    "fd.write(js)\n",
    "fd.close()"
   ]
  },
  {
   "cell_type": "code",
   "execution_count": null,
   "id": "d7e2655b",
   "metadata": {},
   "outputs": [],
   "source": []
  }
 ],
 "metadata": {
  "kernelspec": {
   "display_name": "Python 3",
   "language": "python",
   "name": "python3"
  },
  "language_info": {
   "codemirror_mode": {
    "name": "ipython",
    "version": 3
   },
   "file_extension": ".py",
   "mimetype": "text/x-python",
   "name": "python",
   "nbconvert_exporter": "python",
   "pygments_lexer": "ipython3",
   "version": "3.8.8"
  }
 },
 "nbformat": 4,
 "nbformat_minor": 5
}
